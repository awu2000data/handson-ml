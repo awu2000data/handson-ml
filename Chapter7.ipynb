{
 "cells": [
  {
   "cell_type": "code",
   "execution_count": 5,
   "metadata": {
    "collapsed": true
   },
   "outputs": [],
   "source": [
    "# To support both python 2 and python 3\n",
    "from __future__ import division, print_function, unicode_literals\n",
    "\n",
    "# Common imports\n",
    "import numpy as np\n",
    "import os\n",
    "\n",
    "# to make this notebook's output stable across runs\n",
    "np.random.seed(42)\n",
    "\n",
    "# To plot pretty figures\n",
    "%matplotlib inline\n",
    "import matplotlib\n",
    "import matplotlib.pyplot as plt\n",
    "plt.rcParams['axes.labelsize'] = 14\n",
    "plt.rcParams['xtick.labelsize'] = 12\n",
    "plt.rcParams['ytick.labelsize'] = 12\n",
    "\n",
    "# Where to save the figures\n",
    "PROJECT_ROOT_DIR = \".\"\n",
    "CHAPTER_ID = \"ensembles\"\n",
    "\n",
    "def image_path(fig_id):\n",
    "    return os.path.join(PROJECT_ROOT_DIR, \"images\", CHAPTER_ID, fig_id)\n",
    "\n",
    "def save_fig(fig_id, tight_layout=True):\n",
    "    print(\"Saving figure\", fig_id)\n",
    "    if tight_layout:\n",
    "        plt.tight_layout()\n",
    "    plt.savefig(image_path(fig_id) + \".png\", format='png', dpi=300)"
   ]
  },
  {
   "cell_type": "code",
   "execution_count": 6,
   "metadata": {
    "collapsed": true
   },
   "outputs": [],
   "source": [
    "from sklearn.model_selection import train_test_split\n",
    "from sklearn.datasets import make_moons\n",
    "\n",
    "X, y = make_moons(n_samples=500, noise=0.30, random_state=42)\n",
    "X_train, X_test, y_train, y_test = train_test_split(X, y, random_state=42)"
   ]
  },
  {
   "cell_type": "code",
   "execution_count": 7,
   "metadata": {},
   "outputs": [
    {
     "data": {
      "text/plain": [
       "VotingClassifier(estimators=[('lr', LogisticRegression(C=1.0, class_weight=None, dual=False, fit_intercept=True,\n",
       "          intercept_scaling=1, max_iter=100, multi_class='ovr', n_jobs=1,\n",
       "          penalty='l2', random_state=None, solver='liblinear', tol=0.0001,\n",
       "          verbose=0, warm_start=False)), ('rf', RandomF...,\n",
       "  max_iter=-1, probability=False, random_state=None, shrinking=True,\n",
       "  tol=0.001, verbose=False))],\n",
       "         n_jobs=1, voting='hard', weights=None)"
      ]
     },
     "execution_count": 7,
     "metadata": {},
     "output_type": "execute_result"
    }
   ],
   "source": [
    "from sklearn.ensemble import RandomForestClassifier\n",
    "from sklearn.ensemble import VotingClassifier\n",
    "from sklearn.linear_model import LogisticRegression\n",
    "from sklearn.svm import SVC\n",
    "\n",
    "log_clf = LogisticRegression()\n",
    "rnd_clf = RandomForestClassifier()\n",
    "svm_clf = SVC()\n",
    "\n",
    "voting_clf = VotingClassifier(estimators=[('lr', log_clf), ('rf', rnd_clf), ('svc', svm_clf)], voting='hard')\n",
    "\n",
    "voting_clf.fit(X_train, y_train)"
   ]
  },
  {
   "cell_type": "code",
   "execution_count": 8,
   "metadata": {},
   "outputs": [
    {
     "name": "stdout",
     "output_type": "stream",
     "text": [
      "LogisticRegression 0.864\n",
      "RandomForestClassifier 0.904\n",
      "SVC 0.888\n",
      "VotingClassifier 0.896\n"
     ]
    }
   ],
   "source": [
    "from sklearn.metrics import accuracy_score\n",
    "for clf in (log_clf, rnd_clf, svm_clf, voting_clf):\n",
    "    clf.fit(X_train, y_train)\n",
    "    y_pred = clf.predict(X_test)\n",
    "    print(clf.__class__.__name__, accuracy_score(y_test, y_pred))"
   ]
  },
  {
   "cell_type": "code",
   "execution_count": 9,
   "metadata": {},
   "outputs": [
    {
     "name": "stdout",
     "output_type": "stream",
     "text": [
      "LogisticRegression 0.864\n",
      "RandomForestClassifier 0.88\n",
      "SVC 0.888\n",
      "VotingClassifier 0.904\n"
     ]
    }
   ],
   "source": [
    "svm_clf = SVC(probability=True)\n",
    "\n",
    "voting_clf = VotingClassifier(estimators=[('lr', log_clf), ('rf', rnd_clf), ('svc', svm_clf)], voting='soft')\n",
    "\n",
    "for clf in (log_clf, rnd_clf, svm_clf, voting_clf):\n",
    "    clf.fit(X_train, y_train)\n",
    "    y_pred = clf.predict(X_test)\n",
    "    print(clf.__class__.__name__, accuracy_score(y_test, y_pred))"
   ]
  },
  {
   "cell_type": "code",
   "execution_count": 11,
   "metadata": {},
   "outputs": [],
   "source": [
    "from sklearn.ensemble import BaggingClassifier\n",
    "from sklearn.tree import DecisionTreeClassifier\n",
    "\n",
    "bag_clf = BaggingClassifier(DecisionTreeClassifier(), n_estimators=500, max_samples=100, bootstrap=True, n_jobs=-1)\n",
    "bag_clf.fit(X_train, y_train)\n",
    "y_pred = bag_clf.predict(X_test)"
   ]
  },
  {
   "cell_type": "code",
   "execution_count": 12,
   "metadata": {},
   "outputs": [
    {
     "data": {
      "text/plain": [
       "0.92266666666666663"
      ]
     },
     "execution_count": 12,
     "metadata": {},
     "output_type": "execute_result"
    }
   ],
   "source": [
    "bag_clf = BaggingClassifier(DecisionTreeClassifier(), n_estimators=500, max_samples=100, bootstrap=True, oob_score=True)\n",
    "bag_clf.fit(X_train, y_train)\n",
    "bag_clf.oob_score_"
   ]
  },
  {
   "cell_type": "code",
   "execution_count": 13,
   "metadata": {},
   "outputs": [
    {
     "data": {
      "text/plain": [
       "array([[ 0.34517766,  0.65482234],\n",
       "       [ 0.37336815,  0.62663185],\n",
       "       [ 1.        ,  0.        ],\n",
       "       [ 0.01305483,  0.98694517],\n",
       "       [ 0.0255102 ,  0.9744898 ],\n",
       "       [ 0.10406091,  0.89593909],\n",
       "       [ 0.42587601,  0.57412399],\n",
       "       [ 0.06905371,  0.93094629],\n",
       "       [ 0.93103448,  0.06896552],\n",
       "       [ 0.83846154,  0.16153846],\n",
       "       [ 0.51030928,  0.48969072],\n",
       "       [ 0.04545455,  0.95454545],\n",
       "       [ 0.72236504,  0.27763496],\n",
       "       [ 0.82555283,  0.17444717],\n",
       "       [ 0.93877551,  0.06122449],\n",
       "       [ 0.09768638,  0.90231362],\n",
       "       [ 0.02864583,  0.97135417],\n",
       "       [ 0.9204244 ,  0.0795756 ],\n",
       "       [ 0.67631579,  0.32368421],\n",
       "       [ 0.96534653,  0.03465347],\n",
       "       [ 0.04289544,  0.95710456],\n",
       "       [ 0.23262032,  0.76737968],\n",
       "       [ 0.87823834,  0.12176166],\n",
       "       [ 0.9765625 ,  0.0234375 ],\n",
       "       [ 0.95336788,  0.04663212],\n",
       "       [ 0.00255754,  0.99744246],\n",
       "       [ 0.97593583,  0.02406417],\n",
       "       [ 1.        ,  0.        ],\n",
       "       [ 0.01587302,  0.98412698],\n",
       "       [ 0.71465969,  0.28534031],\n",
       "       [ 0.        ,  1.        ],\n",
       "       [ 0.99475066,  0.00524934],\n",
       "       [ 0.01319261,  0.98680739],\n",
       "       [ 0.07754011,  0.92245989],\n",
       "       [ 0.08616188,  0.91383812],\n",
       "       [ 0.97612732,  0.02387268],\n",
       "       [ 0.01591512,  0.98408488],\n",
       "       [ 0.53076923,  0.46923077],\n",
       "       [ 0.0183727 ,  0.9816273 ],\n",
       "       [ 0.99742931,  0.00257069],\n",
       "       [ 0.08461538,  0.91538462],\n",
       "       [ 0.36538462,  0.63461538],\n",
       "       [ 1.        ,  0.        ],\n",
       "       [ 0.98425197,  0.01574803],\n",
       "       [ 0.015     ,  0.985     ],\n",
       "       [ 1.        ,  0.        ],\n",
       "       [ 1.        ,  0.        ],\n",
       "       [ 0.03307888,  0.96692112],\n",
       "       [ 0.98666667,  0.01333333],\n",
       "       [ 0.02617801,  0.97382199],\n",
       "       [ 0.94315245,  0.05684755],\n",
       "       [ 0.80901857,  0.19098143],\n",
       "       [ 0.94502618,  0.05497382],\n",
       "       [ 0.79895561,  0.20104439],\n",
       "       [ 0.02570694,  0.97429306],\n",
       "       [ 0.10723861,  0.89276139],\n",
       "       [ 0.81313131,  0.18686869],\n",
       "       [ 0.0156658 ,  0.9843342 ],\n",
       "       [ 0.01036269,  0.98963731],\n",
       "       [ 0.04347826,  0.95652174],\n",
       "       [ 0.83      ,  0.17      ],\n",
       "       [ 0.64285714,  0.35714286],\n",
       "       [ 0.66666667,  0.33333333],\n",
       "       [ 0.98626374,  0.01373626],\n",
       "       [ 0.01017812,  0.98982188],\n",
       "       [ 0.82841823,  0.17158177],\n",
       "       [ 0.98727735,  0.01272265],\n",
       "       [ 0.98473282,  0.01526718],\n",
       "       [ 0.59383033,  0.40616967],\n",
       "       [ 0.984     ,  0.016     ],\n",
       "       [ 0.32978723,  0.67021277],\n",
       "       [ 0.32608696,  0.67391304],\n",
       "       [ 0.40769231,  0.59230769],\n",
       "       [ 0.66414141,  0.33585859],\n",
       "       [ 0.01061008,  0.98938992],\n",
       "       [ 0.32      ,  0.68      ],\n",
       "       [ 0.8515625 ,  0.1484375 ],\n",
       "       [ 1.        ,  0.        ],\n",
       "       [ 0.02040816,  0.97959184],\n",
       "       [ 0.96029777,  0.03970223],\n",
       "       [ 0.00251889,  0.99748111],\n",
       "       [ 0.24064171,  0.75935829],\n",
       "       [ 0.11458333,  0.88541667],\n",
       "       [ 0.42894057,  0.57105943],\n",
       "       [ 0.99483204,  0.00516796],\n",
       "       [ 0.03937008,  0.96062992],\n",
       "       [ 0.57670455,  0.42329545],\n",
       "       [ 0.05540897,  0.94459103],\n",
       "       [ 0.0492228 ,  0.9507772 ],\n",
       "       [ 0.        ,  1.        ],\n",
       "       [ 0.35483871,  0.64516129],\n",
       "       [ 1.        ,  0.        ],\n",
       "       [ 0.00797872,  0.99202128],\n",
       "       [ 0.05714286,  0.94285714],\n",
       "       [ 0.01333333,  0.98666667],\n",
       "       [ 0.80428954,  0.19571046],\n",
       "       [ 0.5978836 ,  0.4021164 ],\n",
       "       [ 0.06575342,  0.93424658],\n",
       "       [ 0.99230769,  0.00769231],\n",
       "       [ 0.31413613,  0.68586387],\n",
       "       [ 0.67857143,  0.32142857],\n",
       "       [ 0.01038961,  0.98961039],\n",
       "       [ 0.08244681,  0.91755319],\n",
       "       [ 0.44132653,  0.55867347],\n",
       "       [ 0.97943445,  0.02056555],\n",
       "       [ 0.05645161,  0.94354839],\n",
       "       [ 0.96808511,  0.03191489],\n",
       "       [ 0.45263158,  0.54736842],\n",
       "       [ 0.2808399 ,  0.7191601 ],\n",
       "       [ 0.99230769,  0.00769231],\n",
       "       [ 0.17829457,  0.82170543],\n",
       "       [ 0.85831063,  0.14168937],\n",
       "       [ 0.27613941,  0.72386059],\n",
       "       [ 0.77979275,  0.22020725],\n",
       "       [ 0.98933333,  0.01066667],\n",
       "       [ 0.99492386,  0.00507614],\n",
       "       [ 0.        ,  1.        ],\n",
       "       [ 0.0025974 ,  0.9974026 ],\n",
       "       [ 0.46851385,  0.53148615],\n",
       "       [ 0.99222798,  0.00777202],\n",
       "       [ 0.07397959,  0.92602041],\n",
       "       [ 0.98974359,  0.01025641],\n",
       "       [ 0.95728643,  0.04271357],\n",
       "       [ 0.99733333,  0.00266667],\n",
       "       [ 0.93243243,  0.06756757],\n",
       "       [ 0.96083551,  0.03916449],\n",
       "       [ 0.03282828,  0.96717172],\n",
       "       [ 0.90364583,  0.09635417],\n",
       "       [ 0.94354839,  0.05645161],\n",
       "       [ 0.02099738,  0.97900262],\n",
       "       [ 0.22368421,  0.77631579],\n",
       "       [ 0.87401575,  0.12598425],\n",
       "       [ 0.375     ,  0.625     ],\n",
       "       [ 0.90909091,  0.09090909],\n",
       "       [ 0.        ,  1.        ],\n",
       "       [ 0.04278075,  0.95721925],\n",
       "       [ 0.74494949,  0.25505051],\n",
       "       [ 0.7154047 ,  0.2845953 ],\n",
       "       [ 0.5078125 ,  0.4921875 ],\n",
       "       [ 0.84444444,  0.15555556],\n",
       "       [ 0.90954774,  0.09045226],\n",
       "       [ 0.13283208,  0.86716792],\n",
       "       [ 0.80417755,  0.19582245],\n",
       "       [ 0.03282828,  0.96717172],\n",
       "       [ 0.00512821,  0.99487179],\n",
       "       [ 0.08100559,  0.91899441],\n",
       "       [ 0.74473684,  0.25526316],\n",
       "       [ 0.95890411,  0.04109589],\n",
       "       [ 1.        ,  0.        ],\n",
       "       [ 0.0397878 ,  0.9602122 ],\n",
       "       [ 0.00536193,  0.99463807],\n",
       "       [ 0.0786802 ,  0.9213198 ],\n",
       "       [ 0.03367876,  0.96632124],\n",
       "       [ 0.99488491,  0.00511509],\n",
       "       [ 0.97932817,  0.02067183],\n",
       "       [ 0.8687664 ,  0.1312336 ],\n",
       "       [ 0.99736148,  0.00263852],\n",
       "       [ 1.        ,  0.        ],\n",
       "       [ 0.87886598,  0.12113402],\n",
       "       [ 0.01033592,  0.98966408],\n",
       "       [ 0.64397906,  0.35602094],\n",
       "       [ 0.3369863 ,  0.6630137 ],\n",
       "       [ 0.0556962 ,  0.9443038 ],\n",
       "       [ 0.00511509,  0.99488491],\n",
       "       [ 0.368     ,  0.632     ],\n",
       "       [ 0.98947368,  0.01052632],\n",
       "       [ 0.95263158,  0.04736842],\n",
       "       [ 0.00258398,  0.99741602],\n",
       "       [ 0.99191375,  0.00808625],\n",
       "       [ 0.06596306,  0.93403694],\n",
       "       [ 0.00526316,  0.99473684],\n",
       "       [ 0.95392954,  0.04607046],\n",
       "       [ 0.00779221,  0.99220779],\n",
       "       [ 0.00787402,  0.99212598],\n",
       "       [ 0.99738903,  0.00261097],\n",
       "       [ 0.01975309,  0.98024691],\n",
       "       [ 0.80729167,  0.19270833],\n",
       "       [ 0.89322917,  0.10677083],\n",
       "       [ 0.04123711,  0.95876289],\n",
       "       [ 0.96918768,  0.03081232],\n",
       "       [ 0.9373297 ,  0.0626703 ],\n",
       "       [ 0.98186528,  0.01813472],\n",
       "       [ 0.0201005 ,  0.9798995 ],\n",
       "       [ 0.0127551 ,  0.9872449 ],\n",
       "       [ 0.99723757,  0.00276243],\n",
       "       [ 0.21038961,  0.78961039],\n",
       "       [ 0.99236641,  0.00763359],\n",
       "       [ 0.08847185,  0.91152815],\n",
       "       [ 0.03116883,  0.96883117],\n",
       "       [ 0.98421053,  0.01578947],\n",
       "       [ 0.        ,  1.        ],\n",
       "       [ 0.16052632,  0.83947368],\n",
       "       [ 0.88511749,  0.11488251],\n",
       "       [ 0.88721805,  0.11278195],\n",
       "       [ 0.60212202,  0.39787798],\n",
       "       [ 0.65866667,  0.34133333],\n",
       "       [ 0.0129199 ,  0.9870801 ],\n",
       "       [ 0.25194805,  0.74805195],\n",
       "       [ 0.98441558,  0.01558442],\n",
       "       [ 0.91338583,  0.08661417],\n",
       "       [ 0.93850267,  0.06149733],\n",
       "       [ 0.98743719,  0.01256281],\n",
       "       [ 0.07387863,  0.92612137],\n",
       "       [ 0.01302083,  0.98697917],\n",
       "       [ 0.09308511,  0.90691489],\n",
       "       [ 0.46578947,  0.53421053],\n",
       "       [ 0.        ,  1.        ],\n",
       "       [ 0.03157895,  0.96842105],\n",
       "       [ 0.94794521,  0.05205479],\n",
       "       [ 0.07733333,  0.92266667],\n",
       "       [ 0.10512129,  0.89487871],\n",
       "       [ 0.89572193,  0.10427807],\n",
       "       [ 0.05426357,  0.94573643],\n",
       "       [ 0.34324324,  0.65675676],\n",
       "       [ 0.00511509,  0.99488491],\n",
       "       [ 1.        ,  0.        ],\n",
       "       [ 0.02313625,  0.97686375],\n",
       "       [ 0.01630435,  0.98369565],\n",
       "       [ 0.91708543,  0.08291457],\n",
       "       [ 0.86548223,  0.13451777],\n",
       "       [ 0.94179894,  0.05820106],\n",
       "       [ 0.01558442,  0.98441558],\n",
       "       [ 0.07828283,  0.92171717],\n",
       "       [ 0.93915344,  0.06084656],\n",
       "       [ 0.13246753,  0.86753247],\n",
       "       [ 0.00797872,  0.99202128],\n",
       "       [ 0.27466667,  0.72533333],\n",
       "       [ 0.97894737,  0.02105263],\n",
       "       [ 0.80913978,  0.19086022],\n",
       "       [ 0.1037234 ,  0.8962766 ],\n",
       "       [ 0.71761658,  0.28238342],\n",
       "       [ 0.95384615,  0.04615385],\n",
       "       [ 0.14136126,  0.85863874],\n",
       "       [ 0.16452442,  0.83547558],\n",
       "       [ 0.99238579,  0.00761421],\n",
       "       [ 0.        ,  1.        ],\n",
       "       [ 0.02362205,  0.97637795],\n",
       "       [ 0.01058201,  0.98941799],\n",
       "       [ 0.34574468,  0.65425532],\n",
       "       [ 0.87531807,  0.12468193],\n",
       "       [ 0.04221636,  0.95778364],\n",
       "       [ 0.98477157,  0.01522843],\n",
       "       [ 0.86189258,  0.13810742],\n",
       "       [ 0.0025641 ,  0.9974359 ],\n",
       "       [ 0.76214834,  0.23785166],\n",
       "       [ 0.99509804,  0.00490196],\n",
       "       [ 0.01052632,  0.98947368],\n",
       "       [ 0.99726776,  0.00273224],\n",
       "       [ 0.06442577,  0.93557423],\n",
       "       [ 0.01329787,  0.98670213],\n",
       "       [ 0.10309278,  0.89690722],\n",
       "       [ 0.22391858,  0.77608142],\n",
       "       [ 0.83827493,  0.16172507],\n",
       "       [ 0.08743169,  0.91256831],\n",
       "       [ 0.9947644 ,  0.0052356 ],\n",
       "       [ 0.59733333,  0.40266667],\n",
       "       [ 0.10526316,  0.89473684],\n",
       "       [ 0.61538462,  0.38461538],\n",
       "       [ 0.815     ,  0.185     ],\n",
       "       [ 0.00813008,  0.99186992],\n",
       "       [ 0.98697917,  0.01302083],\n",
       "       [ 0.01041667,  0.98958333],\n",
       "       [ 0.        ,  1.        ],\n",
       "       [ 0.75510204,  0.24489796],\n",
       "       [ 0.        ,  1.        ],\n",
       "       [ 0.98961039,  0.01038961],\n",
       "       [ 0.09210526,  0.90789474],\n",
       "       [ 0.73246753,  0.26753247],\n",
       "       [ 0.13810742,  0.86189258],\n",
       "       [ 0.99212598,  0.00787402],\n",
       "       [ 0.87798408,  0.12201592],\n",
       "       [ 0.00507614,  0.99492386],\n",
       "       [ 0.08157895,  0.91842105],\n",
       "       [ 0.12972973,  0.87027027],\n",
       "       [ 0.10077519,  0.89922481],\n",
       "       [ 0.        ,  1.        ],\n",
       "       [ 0.97409326,  0.02590674],\n",
       "       [ 0.7913486 ,  0.2086514 ],\n",
       "       [ 0.19893899,  0.80106101],\n",
       "       [ 0.92513369,  0.07486631],\n",
       "       [ 0.06718346,  0.93281654],\n",
       "       [ 0.66312997,  0.33687003],\n",
       "       [ 0.15789474,  0.84210526],\n",
       "       [ 0.96153846,  0.03846154],\n",
       "       [ 0.86315789,  0.13684211],\n",
       "       [ 0.00767263,  0.99232737],\n",
       "       [ 0.92777778,  0.07222222],\n",
       "       [ 0.90789474,  0.09210526],\n",
       "       [ 0.00787402,  0.99212598],\n",
       "       [ 0.05128205,  0.94871795],\n",
       "       [ 0.99191375,  0.00808625],\n",
       "       [ 0.02185792,  0.97814208],\n",
       "       [ 0.9975    ,  0.0025    ],\n",
       "       [ 0.07238606,  0.92761394],\n",
       "       [ 0.92204301,  0.07795699],\n",
       "       [ 1.        ,  0.        ],\n",
       "       [ 0.01358696,  0.98641304],\n",
       "       [ 0.04092072,  0.95907928],\n",
       "       [ 0.6443299 ,  0.3556701 ],\n",
       "       [ 0.        ,  1.        ],\n",
       "       [ 1.        ,  0.        ],\n",
       "       [ 0.64415584,  0.35584416],\n",
       "       [ 0.86827957,  0.13172043],\n",
       "       [ 0.98961039,  0.01038961],\n",
       "       [ 0.64321608,  0.35678392],\n",
       "       [ 0.46010638,  0.53989362],\n",
       "       [ 0.03846154,  0.96153846],\n",
       "       [ 0.80878553,  0.19121447],\n",
       "       [ 0.00779221,  0.99220779],\n",
       "       [ 0.99208443,  0.00791557],\n",
       "       [ 0.76010782,  0.23989218],\n",
       "       [ 1.        ,  0.        ],\n",
       "       [ 1.        ,  0.        ],\n",
       "       [ 0.81315789,  0.18684211],\n",
       "       [ 0.26943005,  0.73056995],\n",
       "       [ 0.1443299 ,  0.8556701 ],\n",
       "       [ 0.2       ,  0.8       ],\n",
       "       [ 0.        ,  1.        ],\n",
       "       [ 0.74262735,  0.25737265],\n",
       "       [ 0.86716792,  0.13283208],\n",
       "       [ 0.04663212,  0.95336788],\n",
       "       [ 0.99742268,  0.00257732],\n",
       "       [ 0.96581197,  0.03418803],\n",
       "       [ 0.9973822 ,  0.0026178 ],\n",
       "       [ 0.01066667,  0.98933333],\n",
       "       [ 0.06068602,  0.93931398],\n",
       "       [ 0.9379845 ,  0.0620155 ],\n",
       "       [ 0.90810811,  0.09189189],\n",
       "       [ 0.99242424,  0.00757576],\n",
       "       [ 0.23544304,  0.76455696],\n",
       "       [ 0.98971722,  0.01028278],\n",
       "       [ 0.10178117,  0.89821883],\n",
       "       [ 0.94025974,  0.05974026],\n",
       "       [ 0.05208333,  0.94791667],\n",
       "       [ 0.98469388,  0.01530612],\n",
       "       [ 0.9921466 ,  0.0078534 ],\n",
       "       [ 0.99466667,  0.00533333],\n",
       "       [ 0.00257732,  0.99742268],\n",
       "       [ 0.90364583,  0.09635417],\n",
       "       [ 0.02072539,  0.97927461],\n",
       "       [ 0.04594595,  0.95405405],\n",
       "       [ 0.05235602,  0.94764398],\n",
       "       [ 0.        ,  1.        ],\n",
       "       [ 1.        ,  0.        ],\n",
       "       [ 0.97911227,  0.02088773],\n",
       "       [ 0.        ,  1.        ],\n",
       "       [ 0.93633952,  0.06366048],\n",
       "       [ 0.07161804,  0.92838196],\n",
       "       [ 0.99204244,  0.00795756],\n",
       "       [ 0.18925831,  0.81074169],\n",
       "       [ 0.01007557,  0.98992443],\n",
       "       [ 0.05774278,  0.94225722],\n",
       "       [ 0.        ,  1.        ],\n",
       "       [ 0.7651715 ,  0.2348285 ],\n",
       "       [ 0.08847185,  0.91152815],\n",
       "       [ 0.11195929,  0.88804071],\n",
       "       [ 0.99744246,  0.00255754],\n",
       "       [ 0.95360825,  0.04639175],\n",
       "       [ 0.19098143,  0.80901857],\n",
       "       [ 0.94986072,  0.05013928],\n",
       "       [ 0.07052897,  0.92947103],\n",
       "       [ 0.10666667,  0.89333333],\n",
       "       [ 0.99202128,  0.00797872],\n",
       "       [ 0.93800539,  0.06199461],\n",
       "       [ 0.5026178 ,  0.4973822 ],\n",
       "       [ 0.88481675,  0.11518325],\n",
       "       [ 0.99739583,  0.00260417],\n",
       "       [ 0.04450262,  0.95549738],\n",
       "       [ 0.9701087 ,  0.0298913 ],\n",
       "       [ 0.04266667,  0.95733333],\n",
       "       [ 0.11052632,  0.88947368],\n",
       "       [ 0.95238095,  0.04761905],\n",
       "       [ 1.        ,  0.        ],\n",
       "       [ 0.07671958,  0.92328042],\n",
       "       [ 0.69895288,  0.30104712]])"
      ]
     },
     "execution_count": 13,
     "metadata": {},
     "output_type": "execute_result"
    }
   ],
   "source": [
    "bag_clf.oob_decision_function_"
   ]
  },
  {
   "cell_type": "code",
   "execution_count": 15,
   "metadata": {},
   "outputs": [],
   "source": [
    "from sklearn.ensemble import RandomForestClassifier\n",
    "\n",
    "rnd_clf = RandomForestClassifier(n_estimators=500, max_leaf_nodes=16, n_jobs=-1)\n",
    "rnd_clf.fit(X_train, y_train)\n",
    "\n",
    "y_pred_rf = rnd_clf.predict(X_test)"
   ]
  },
  {
   "cell_type": "code",
   "execution_count": 16,
   "metadata": {},
   "outputs": [
    {
     "name": "stdout",
     "output_type": "stream",
     "text": [
      "sepal length (cm) 0.102400859639\n",
      "sepal width (cm) 0.0242129508132\n",
      "petal length (cm) 0.431982354961\n",
      "petal width (cm) 0.441403834587\n"
     ]
    }
   ],
   "source": [
    "from sklearn.datasets import load_iris\n",
    "iris = load_iris()\n",
    "rnd_clf = RandomForestClassifier(n_estimators=500, n_jobs=-1)\n",
    "rnd_clf.fit(iris[\"data\"], iris[\"target\"])\n",
    "for name, score in zip(iris[\"feature_names\"], rnd_clf.feature_importances_):\n",
    "    print(name, score)"
   ]
  },
  {
   "cell_type": "code",
   "execution_count": 17,
   "metadata": {},
   "outputs": [
    {
     "data": {
      "text/plain": [
       "AdaBoostClassifier(algorithm='SAMME.R',\n",
       "          base_estimator=DecisionTreeClassifier(class_weight=None, criterion='gini', max_depth=1,\n",
       "            max_features=None, max_leaf_nodes=None,\n",
       "            min_impurity_split=1e-07, min_samples_leaf=1,\n",
       "            min_samples_split=2, min_weight_fraction_leaf=0.0,\n",
       "            presort=False, random_state=None, splitter='best'),\n",
       "          learning_rate=0.5, n_estimators=200, random_state=None)"
      ]
     },
     "execution_count": 17,
     "metadata": {},
     "output_type": "execute_result"
    }
   ],
   "source": [
    "from sklearn.ensemble import AdaBoostClassifier\n",
    "\n",
    "ada_clf = AdaBoostClassifier(\n",
    "        DecisionTreeClassifier(max_depth=1), n_estimators=200,\n",
    "        algorithm=\"SAMME.R\", learning_rate=0.5\n",
    "    )\n",
    "ada_clf.fit(X_train, y_train)"
   ]
  },
  {
   "cell_type": "code",
   "execution_count": 18,
   "metadata": {},
   "outputs": [
    {
     "data": {
      "text/plain": [
       "DecisionTreeRegressor(criterion='mse', max_depth=2, max_features=None,\n",
       "           max_leaf_nodes=None, min_impurity_split=1e-07,\n",
       "           min_samples_leaf=1, min_samples_split=2,\n",
       "           min_weight_fraction_leaf=0.0, presort=False, random_state=None,\n",
       "           splitter='best')"
      ]
     },
     "execution_count": 18,
     "metadata": {},
     "output_type": "execute_result"
    }
   ],
   "source": [
    "from sklearn.tree import DecisionTreeRegressor\n",
    "\n",
    "tree_reg1 = DecisionTreeRegressor(max_depth=2)\n",
    "tree_reg1.fit(X, y)"
   ]
  },
  {
   "cell_type": "code",
   "execution_count": 19,
   "metadata": {},
   "outputs": [
    {
     "data": {
      "text/plain": [
       "DecisionTreeRegressor(criterion='mse', max_depth=2, max_features=None,\n",
       "           max_leaf_nodes=None, min_impurity_split=1e-07,\n",
       "           min_samples_leaf=1, min_samples_split=2,\n",
       "           min_weight_fraction_leaf=0.0, presort=False, random_state=None,\n",
       "           splitter='best')"
      ]
     },
     "execution_count": 19,
     "metadata": {},
     "output_type": "execute_result"
    }
   ],
   "source": [
    "y2 = y - tree_reg1.predict(X)\n",
    "tree_reg2 = DecisionTreeRegressor(max_depth=2)\n",
    "tree_reg2.fit(X, y2)"
   ]
  },
  {
   "cell_type": "code",
   "execution_count": 20,
   "metadata": {},
   "outputs": [
    {
     "data": {
      "text/plain": [
       "DecisionTreeRegressor(criterion='mse', max_depth=2, max_features=None,\n",
       "           max_leaf_nodes=None, min_impurity_split=1e-07,\n",
       "           min_samples_leaf=1, min_samples_split=2,\n",
       "           min_weight_fraction_leaf=0.0, presort=False, random_state=None,\n",
       "           splitter='best')"
      ]
     },
     "execution_count": 20,
     "metadata": {},
     "output_type": "execute_result"
    }
   ],
   "source": [
    "y3 = y2 - tree_reg2.predict(X)\n",
    "tree_reg3 = DecisionTreeRegressor(max_depth=2)\n",
    "tree_reg3.fit(X, y3)"
   ]
  },
  {
   "cell_type": "code",
   "execution_count": 22,
   "metadata": {},
   "outputs": [],
   "source": [
    "y_pred = sum(tree.predict(X_test) for tree in (tree_reg1, tree_reg2, tree_reg3))"
   ]
  },
  {
   "cell_type": "code",
   "execution_count": 23,
   "metadata": {},
   "outputs": [
    {
     "data": {
      "text/plain": [
       "GradientBoostingRegressor(alpha=0.9, criterion='friedman_mse', init=None,\n",
       "             learning_rate=1.0, loss='ls', max_depth=2, max_features=None,\n",
       "             max_leaf_nodes=None, min_impurity_split=1e-07,\n",
       "             min_samples_leaf=1, min_samples_split=2,\n",
       "             min_weight_fraction_leaf=0.0, n_estimators=3, presort='auto',\n",
       "             random_state=None, subsample=1.0, verbose=0, warm_start=False)"
      ]
     },
     "execution_count": 23,
     "metadata": {},
     "output_type": "execute_result"
    }
   ],
   "source": [
    "from sklearn.ensemble import GradientBoostingRegressor\n",
    "\n",
    "gbrt = GradientBoostingRegressor(max_depth=2, n_estimators=3, learning_rate=1.0)\n",
    "gbrt.fit(X, y)"
   ]
  },
  {
   "cell_type": "code",
   "execution_count": 24,
   "metadata": {},
   "outputs": [
    {
     "data": {
      "text/plain": [
       "GradientBoostingRegressor(alpha=0.9, criterion='friedman_mse', init=None,\n",
       "             learning_rate=0.1, loss='ls', max_depth=2, max_features=None,\n",
       "             max_leaf_nodes=None, min_impurity_split=1e-07,\n",
       "             min_samples_leaf=1, min_samples_split=2,\n",
       "             min_weight_fraction_leaf=0.0, n_estimators=63, presort='auto',\n",
       "             random_state=None, subsample=1.0, verbose=0, warm_start=False)"
      ]
     },
     "execution_count": 24,
     "metadata": {},
     "output_type": "execute_result"
    }
   ],
   "source": [
    "import numpy as np\n",
    "from sklearn.model_selection import train_test_split\n",
    "from sklearn.metrics import mean_squared_error\n",
    "\n",
    "X_train, X_val, y_train, y_val = train_test_split(X, y)\n",
    "\n",
    "gbrt = GradientBoostingRegressor(max_depth=2, n_estimators=120)\n",
    "gbrt.fit(X_train, y_train)\n",
    "\n",
    "errors = [mean_squared_error(y_val, y_pred)\n",
    "          for y_pred in gbrt.staged_predict(X_val)]\n",
    "bst_n_estimators = np.argmin(errors)\n",
    "\n",
    "gbrt_best = GradientBoostingRegressor(max_depth=2,n_estimators=bst_n_estimators)\n",
    "gbrt_best.fit(X_train, y_train)"
   ]
  },
  {
   "cell_type": "code",
   "execution_count": 25,
   "metadata": {
    "collapsed": true
   },
   "outputs": [],
   "source": [
    "gbrt = GradientBoostingRegressor(max_depth=2, warm_start=True)\n",
    "\n",
    "min_val_error = float(\"inf\")\n",
    "error_going_up = 0\n",
    "for n_estimators in range(1, 120):\n",
    "    gbrt.n_estimators = n_estimators\n",
    "    gbrt.fit(X_train, y_train)\n",
    "    y_pred = gbrt.predict(X_val)\n",
    "    val_error = mean_squared_error(y_val, y_pred)\n",
    "    if val_error < min_val_error:\n",
    "        min_val_error = val_error\n",
    "        error_going_up = 0\n",
    "    else:\n",
    "        error_going_up += 1\n",
    "        if error_going_up == 5:\n",
    "            break  # early stopping"
   ]
  }
 ],
 "metadata": {
  "kernelspec": {
   "display_name": "Python 3",
   "language": "python",
   "name": "python3"
  },
  "language_info": {
   "codemirror_mode": {
    "name": "ipython",
    "version": 3
   },
   "file_extension": ".py",
   "mimetype": "text/x-python",
   "name": "python",
   "nbconvert_exporter": "python",
   "pygments_lexer": "ipython3",
   "version": "3.6.2"
  }
 },
 "nbformat": 4,
 "nbformat_minor": 2
}
